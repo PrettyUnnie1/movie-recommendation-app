{
 "cells": [
  {
   "cell_type": "code",
   "execution_count": 50,
   "metadata": {},
   "outputs": [
    {
     "name": "stdout",
     "output_type": "stream",
     "text": [
      "Requirement already satisfied: tensorflow in c:\\users\\admin\\.conda\\envs\\tf_gpu_env\\lib\\site-packages (2.15.0)\n",
      "Requirement already satisfied: keras in c:\\users\\admin\\.conda\\envs\\tf_gpu_env\\lib\\site-packages (2.15.0)\n",
      "Requirement already satisfied: pandas in c:\\users\\admin\\appdata\\roaming\\python\\python310\\site-packages (2.2.3)\n",
      "Requirement already satisfied: numpy in c:\\users\\admin\\appdata\\roaming\\python\\python310\\site-packages (1.26.4)\n",
      "Requirement already satisfied: scikit-learn in c:\\users\\admin\\.conda\\envs\\tf_gpu_env\\lib\\site-packages (1.6.1)\n",
      "Requirement already satisfied: matplotlib in c:\\users\\admin\\appdata\\roaming\\python\\python310\\site-packages (3.10.1)\n",
      "Requirement already satisfied: tensorflow-intel==2.15.0 in c:\\users\\admin\\.conda\\envs\\tf_gpu_env\\lib\\site-packages (from tensorflow) (2.15.0)\n",
      "Requirement already satisfied: absl-py>=1.0.0 in c:\\users\\admin\\appdata\\roaming\\python\\python310\\site-packages (from tensorflow-intel==2.15.0->tensorflow) (2.2.2)\n",
      "Requirement already satisfied: astunparse>=1.6.0 in c:\\users\\admin\\appdata\\roaming\\python\\python310\\site-packages (from tensorflow-intel==2.15.0->tensorflow) (1.6.3)\n",
      "Requirement already satisfied: flatbuffers>=23.5.26 in c:\\users\\admin\\appdata\\roaming\\python\\python310\\site-packages (from tensorflow-intel==2.15.0->tensorflow) (25.2.10)\n",
      "Requirement already satisfied: gast!=0.5.0,!=0.5.1,!=0.5.2,>=0.2.1 in c:\\users\\admin\\appdata\\roaming\\python\\python310\\site-packages (from tensorflow-intel==2.15.0->tensorflow) (0.6.0)\n",
      "Requirement already satisfied: google-pasta>=0.1.1 in c:\\users\\admin\\appdata\\roaming\\python\\python310\\site-packages (from tensorflow-intel==2.15.0->tensorflow) (0.2.0)\n",
      "Requirement already satisfied: h5py>=2.9.0 in c:\\users\\admin\\appdata\\roaming\\python\\python310\\site-packages (from tensorflow-intel==2.15.0->tensorflow) (3.13.0)\n",
      "Requirement already satisfied: libclang>=13.0.0 in c:\\users\\admin\\appdata\\roaming\\python\\python310\\site-packages (from tensorflow-intel==2.15.0->tensorflow) (18.1.1)\n",
      "Requirement already satisfied: ml-dtypes~=0.2.0 in c:\\users\\admin\\appdata\\roaming\\python\\python310\\site-packages (from tensorflow-intel==2.15.0->tensorflow) (0.2.0)\n",
      "Requirement already satisfied: opt-einsum>=2.3.2 in c:\\users\\admin\\appdata\\roaming\\python\\python310\\site-packages (from tensorflow-intel==2.15.0->tensorflow) (3.4.0)\n",
      "Requirement already satisfied: packaging in c:\\users\\admin\\appdata\\roaming\\python\\python310\\site-packages (from tensorflow-intel==2.15.0->tensorflow) (25.0)\n",
      "Requirement already satisfied: protobuf!=4.21.0,!=4.21.1,!=4.21.2,!=4.21.3,!=4.21.4,!=4.21.5,<5.0.0dev,>=3.20.3 in c:\\users\\admin\\appdata\\roaming\\python\\python310\\site-packages (from tensorflow-intel==2.15.0->tensorflow) (4.21.12)\n",
      "Requirement already satisfied: setuptools in c:\\users\\admin\\.conda\\envs\\tf_gpu_env\\lib\\site-packages (from tensorflow-intel==2.15.0->tensorflow) (80.3.0)\n",
      "Requirement already satisfied: six>=1.12.0 in c:\\users\\admin\\appdata\\roaming\\python\\python310\\site-packages (from tensorflow-intel==2.15.0->tensorflow) (1.17.0)\n",
      "Requirement already satisfied: termcolor>=1.1.0 in c:\\users\\admin\\appdata\\roaming\\python\\python310\\site-packages (from tensorflow-intel==2.15.0->tensorflow) (3.0.1)\n",
      "Requirement already satisfied: typing-extensions>=3.6.6 in c:\\users\\admin\\appdata\\roaming\\python\\python310\\site-packages (from tensorflow-intel==2.15.0->tensorflow) (4.13.2)\n",
      "Requirement already satisfied: wrapt<1.15,>=1.11.0 in c:\\users\\admin\\appdata\\roaming\\python\\python310\\site-packages (from tensorflow-intel==2.15.0->tensorflow) (1.14.1)\n",
      "Requirement already satisfied: tensorflow-io-gcs-filesystem>=0.23.1 in c:\\users\\admin\\.conda\\envs\\tf_gpu_env\\lib\\site-packages (from tensorflow-intel==2.15.0->tensorflow) (0.31.0)\n",
      "Requirement already satisfied: grpcio<2.0,>=1.24.3 in c:\\users\\admin\\appdata\\roaming\\python\\python310\\site-packages (from tensorflow-intel==2.15.0->tensorflow) (1.71.0)\n",
      "Requirement already satisfied: tensorboard<2.16,>=2.15 in c:\\users\\admin\\appdata\\roaming\\python\\python310\\site-packages (from tensorflow-intel==2.15.0->tensorflow) (2.15.2)\n",
      "Requirement already satisfied: tensorflow-estimator<2.16,>=2.15.0 in c:\\users\\admin\\.conda\\envs\\tf_gpu_env\\lib\\site-packages (from tensorflow-intel==2.15.0->tensorflow) (2.15.0)\n",
      "Requirement already satisfied: python-dateutil>=2.8.2 in c:\\users\\admin\\appdata\\roaming\\python\\python310\\site-packages (from pandas) (2.9.0.post0)\n",
      "Requirement already satisfied: pytz>=2020.1 in c:\\users\\admin\\appdata\\roaming\\python\\python310\\site-packages (from pandas) (2025.2)\n",
      "Requirement already satisfied: tzdata>=2022.7 in c:\\users\\admin\\appdata\\roaming\\python\\python310\\site-packages (from pandas) (2025.2)\n",
      "Requirement already satisfied: scipy>=1.6.0 in c:\\users\\admin\\.conda\\envs\\tf_gpu_env\\lib\\site-packages (from scikit-learn) (1.15.2)\n",
      "Requirement already satisfied: joblib>=1.2.0 in c:\\users\\admin\\.conda\\envs\\tf_gpu_env\\lib\\site-packages (from scikit-learn) (1.4.2)\n",
      "Requirement already satisfied: threadpoolctl>=3.1.0 in c:\\users\\admin\\.conda\\envs\\tf_gpu_env\\lib\\site-packages (from scikit-learn) (3.6.0)\n",
      "Requirement already satisfied: contourpy>=1.0.1 in c:\\users\\admin\\appdata\\roaming\\python\\python310\\site-packages (from matplotlib) (1.3.2)\n",
      "Requirement already satisfied: cycler>=0.10 in c:\\users\\admin\\appdata\\roaming\\python\\python310\\site-packages (from matplotlib) (0.12.1)\n",
      "Requirement already satisfied: fonttools>=4.22.0 in c:\\users\\admin\\appdata\\roaming\\python\\python310\\site-packages (from matplotlib) (4.57.0)\n",
      "Requirement already satisfied: kiwisolver>=1.3.1 in c:\\users\\admin\\appdata\\roaming\\python\\python310\\site-packages (from matplotlib) (1.4.8)\n",
      "Requirement already satisfied: pillow>=8 in c:\\users\\admin\\appdata\\roaming\\python\\python310\\site-packages (from matplotlib) (11.2.1)\n",
      "Requirement already satisfied: pyparsing>=2.3.1 in c:\\users\\admin\\appdata\\roaming\\python\\python310\\site-packages (from matplotlib) (3.2.3)\n",
      "Requirement already satisfied: wheel<1.0,>=0.23.0 in c:\\users\\admin\\appdata\\roaming\\python\\python310\\site-packages (from astunparse>=1.6.0->tensorflow-intel==2.15.0->tensorflow) (0.45.1)\n",
      "Requirement already satisfied: google-auth<3,>=1.6.3 in c:\\users\\admin\\appdata\\roaming\\python\\python310\\site-packages (from tensorboard<2.16,>=2.15->tensorflow-intel==2.15.0->tensorflow) (2.39.0)\n",
      "Requirement already satisfied: google-auth-oauthlib<2,>=0.5 in c:\\users\\admin\\appdata\\roaming\\python\\python310\\site-packages (from tensorboard<2.16,>=2.15->tensorflow-intel==2.15.0->tensorflow) (1.2.2)\n",
      "Requirement already satisfied: markdown>=2.6.8 in c:\\users\\admin\\appdata\\roaming\\python\\python310\\site-packages (from tensorboard<2.16,>=2.15->tensorflow-intel==2.15.0->tensorflow) (3.8)\n",
      "Requirement already satisfied: requests<3,>=2.21.0 in c:\\users\\admin\\appdata\\roaming\\python\\python310\\site-packages (from tensorboard<2.16,>=2.15->tensorflow-intel==2.15.0->tensorflow) (2.32.3)\n",
      "Requirement already satisfied: tensorboard-data-server<0.8.0,>=0.7.0 in c:\\users\\admin\\appdata\\roaming\\python\\python310\\site-packages (from tensorboard<2.16,>=2.15->tensorflow-intel==2.15.0->tensorflow) (0.7.2)\n",
      "Requirement already satisfied: werkzeug>=1.0.1 in c:\\users\\admin\\appdata\\roaming\\python\\python310\\site-packages (from tensorboard<2.16,>=2.15->tensorflow-intel==2.15.0->tensorflow) (3.1.3)\n",
      "Requirement already satisfied: cachetools<6.0,>=2.0.0 in c:\\users\\admin\\appdata\\roaming\\python\\python310\\site-packages (from google-auth<3,>=1.6.3->tensorboard<2.16,>=2.15->tensorflow-intel==2.15.0->tensorflow) (5.5.2)\n",
      "Requirement already satisfied: pyasn1-modules>=0.2.1 in c:\\users\\admin\\appdata\\roaming\\python\\python310\\site-packages (from google-auth<3,>=1.6.3->tensorboard<2.16,>=2.15->tensorflow-intel==2.15.0->tensorflow) (0.4.2)\n",
      "Requirement already satisfied: rsa<5,>=3.1.4 in c:\\users\\admin\\appdata\\roaming\\python\\python310\\site-packages (from google-auth<3,>=1.6.3->tensorboard<2.16,>=2.15->tensorflow-intel==2.15.0->tensorflow) (4.9.1)\n",
      "Requirement already satisfied: requests-oauthlib>=0.7.0 in c:\\users\\admin\\appdata\\roaming\\python\\python310\\site-packages (from google-auth-oauthlib<2,>=0.5->tensorboard<2.16,>=2.15->tensorflow-intel==2.15.0->tensorflow) (2.0.0)\n",
      "Requirement already satisfied: charset-normalizer<4,>=2 in c:\\users\\admin\\appdata\\roaming\\python\\python310\\site-packages (from requests<3,>=2.21.0->tensorboard<2.16,>=2.15->tensorflow-intel==2.15.0->tensorflow) (3.4.1)\n",
      "Requirement already satisfied: idna<4,>=2.5 in c:\\users\\admin\\appdata\\roaming\\python\\python310\\site-packages (from requests<3,>=2.21.0->tensorboard<2.16,>=2.15->tensorflow-intel==2.15.0->tensorflow) (3.10)\n",
      "Requirement already satisfied: urllib3<3,>=1.21.1 in c:\\users\\admin\\appdata\\roaming\\python\\python310\\site-packages (from requests<3,>=2.21.0->tensorboard<2.16,>=2.15->tensorflow-intel==2.15.0->tensorflow) (2.4.0)\n",
      "Requirement already satisfied: certifi>=2017.4.17 in c:\\users\\admin\\appdata\\roaming\\python\\python310\\site-packages (from requests<3,>=2.21.0->tensorboard<2.16,>=2.15->tensorflow-intel==2.15.0->tensorflow) (2025.1.31)\n",
      "Requirement already satisfied: MarkupSafe>=2.1.1 in c:\\users\\admin\\appdata\\roaming\\python\\python310\\site-packages (from werkzeug>=1.0.1->tensorboard<2.16,>=2.15->tensorflow-intel==2.15.0->tensorflow) (3.0.2)\n",
      "Requirement already satisfied: pyasn1<0.7.0,>=0.6.1 in c:\\users\\admin\\appdata\\roaming\\python\\python310\\site-packages (from pyasn1-modules>=0.2.1->google-auth<3,>=1.6.3->tensorboard<2.16,>=2.15->tensorflow-intel==2.15.0->tensorflow) (0.6.1)\n",
      "Requirement already satisfied: oauthlib>=3.0.0 in c:\\users\\admin\\appdata\\roaming\\python\\python310\\site-packages (from requests-oauthlib>=0.7.0->google-auth-oauthlib<2,>=0.5->tensorboard<2.16,>=2.15->tensorflow-intel==2.15.0->tensorflow) (3.2.2)\n",
      "Note: you may need to restart the kernel to use updated packages.\n"
     ]
    }
   ],
   "source": [
    "%pip install tensorflow keras pandas numpy scikit-learn matplotlib"
   ]
  },
  {
   "cell_type": "code",
   "execution_count": 51,
   "metadata": {},
   "outputs": [],
   "source": [
    "import os\n",
    "os.environ['TF_CPP_MIN_LOG_LEVEL'] = '2'"
   ]
  },
  {
   "cell_type": "code",
   "execution_count": 52,
   "metadata": {
    "id": "DV3FU3zWB7Wn"
   },
   "outputs": [],
   "source": [
    "import tensorflow as tf\n",
    "from tensorflow import keras\n",
    "from tensorflow.keras import layers\n",
    "import pandas as pd\n",
    "import numpy as np\n",
    "from sklearn.model_selection import train_test_split\n",
    "from sklearn.preprocessing import LabelEncoder\n"
   ]
  },
  {
   "cell_type": "code",
   "execution_count": 53,
   "metadata": {
    "id": "dHeIM4m6B7Wp"
   },
   "outputs": [],
   "source": [
    "# Đọc dữ liệu MovieLens 1M\n",
    "file_path = r\"C:\\Thesis\\Sample Project\\Data\\Dataset\\ratings.dat\"\n",
    "column_names = [\"user_id\", \"item_id\", \"rating\", \"timestamp\"]\n",
    "data = pd.read_csv(file_path, sep='::', names=column_names, engine='python')\n",
    "\n",
    "data = data.drop(columns=[\"timestamp\"])  # Bỏ cột timestamp"
   ]
  },
  {
   "cell_type": "code",
   "execution_count": 54,
   "id": "d971be80",
   "metadata": {},
   "outputs": [
    {
     "name": "stdout",
     "output_type": "stream",
     "text": [
      "Gender Mapping: {'F': 0, 'M': 1}\n",
      "Age Mapping: {1: 0, 18: 1, 25: 2, 35: 3, 45: 4, 50: 5, 56: 6}\n",
      "Occupation Mapping: {0: 0, 1: 1, 2: 2, 3: 3, 4: 4, 5: 5, 6: 6, 7: 7, 8: 8, 9: 9, 10: 10, 11: 11, 12: 12, 13: 13, 14: 14, 15: 15, 16: 16, 17: 17, 18: 18, 19: 19, 20: 20}\n",
      "Genre Mapping: {'Action': 0, 'Adventure': 1, 'Animation': 2, \"Children's\": 3, 'Comedy': 4, 'Crime': 5, 'Documentary': 6, 'Drama': 7, 'Fantasy': 8, 'Film-Noir': 9, 'Horror': 10, 'Musical': 11, 'Mystery': 12, 'Romance': 13, 'Sci-Fi': 14, 'Thriller': 15, 'War': 16, 'Western': 17}\n"
     ]
    }
   ],
   "source": [
    "\n",
    "# Load thêm dữ liệu người dùng và phim\n",
    "users = pd.read_csv(r\"C:\\Thesis\\Sample Project\\Data\\Dataset\\users.dat\", sep='::', engine='python',\n",
    "                    names=[\"user_id\", \"gender\", \"age\", \"occupation\", \"zip\"], encoding='latin-1')\n",
    "movies = pd.read_csv(r\"C:\\Thesis\\Sample Project\\Data\\Dataset\\movies.dat\", sep='::', engine='python',\n",
    "                     names=[\"item_id\", \"title\", \"genres\"], encoding='latin-1') \n",
    "\n",
    "# Encode các cột phân loại\n",
    "from sklearn.preprocessing import LabelEncoder\n",
    "gender_enc = LabelEncoder()\n",
    "occupation_enc = LabelEncoder()\n",
    "age_enc = LabelEncoder()\n",
    "genre_enc = LabelEncoder()\n",
    "\n",
    "users[\"gender\"] = gender_enc.fit_transform(users[\"gender\"])\n",
    "users[\"occupation\"] = occupation_enc.fit_transform(users[\"occupation\"])\n",
    "users[\"age\"] = age_enc.fit_transform(users[\"age\"])\n",
    "\n",
    "# Với genres có nhiều thể loại, tạm thời chỉ lấy thể loại đầu tiên\n",
    "movies[\"genres\"] = movies[\"genres\"].apply(lambda x: x.split('|')[0])\n",
    "movies[\"genres\"] = genre_enc.fit_transform(movies[\"genres\"])\n",
    "\n",
    "# In dữ liệu để kiểm tra\n",
    "print(\"Gender Mapping:\", dict(zip(gender_enc.classes_, gender_enc.transform(gender_enc.classes_))))\n",
    "print(\"Age Mapping:\", dict(zip(age_enc.classes_, age_enc.transform(age_enc.classes_))))\n",
    "print(\"Occupation Mapping:\", dict(zip(occupation_enc.classes_, occupation_enc.transform(occupation_enc.classes_))))\n",
    "print(\"Genre Mapping:\", dict(zip(genre_enc.classes_, genre_enc.transform(genre_enc.classes_))))\n",
    "\n",
    "# Gộp dữ liệu lại\n",
    "data = data.merge(users, on=\"user_id\")\n",
    "data = data.merge(movies, on=\"item_id\")\n"
   ]
  },
  {
   "cell_type": "code",
   "execution_count": 55,
   "metadata": {
    "id": "JvV02DqIB7Wq"
   },
   "outputs": [],
   "source": [
    "# Drop user_id (vì không dùng)\n",
    "data = data.drop(columns=[\"user_id\"])\n",
    "\n",
    "item_encoder = LabelEncoder()\n",
    "data[\"item_id\"] = item_encoder.fit_transform(data[\"item_id\"])\n",
    "\n",
    "# Cập nhật số lượng item để dùng cho model\n",
    "num_items = data[\"item_id\"].nunique()\n",
    "\n",
    "# Chia tập huấn luyện và kiểm tra\n",
    "train, test = train_test_split(data, test_size=0.2, random_state=42)\n"
   ]
  },
  {
   "cell_type": "code",
   "execution_count": 56,
   "metadata": {
    "id": "Sq2xE5bgB7Wr"
   },
   "outputs": [],
   "source": [
    "def build_deepfm(num_items, num_genres, num_genders, num_ages, num_occupations,\n",
    "                embedding_dim=8, hidden_dims=[64, 32], dropout=0.5):\n",
    "\n",
    "    # Inputs\n",
    "    gender_input = layers.Input(shape=(1,), name='gender')\n",
    "    age_input = layers.Input(shape=(1,), name='age')\n",
    "    occupation_input = layers.Input(shape=(1,), name='occupation')\n",
    "    item_input = layers.Input(shape=(1,), name='item_id')\n",
    "    genre_input = layers.Input(shape=(1,), name='genre')\n",
    "\n",
    "    # Embeddings\n",
    "    gender_emb = layers.Embedding(num_genders, embedding_dim)(gender_input)\n",
    "    age_emb = layers.Embedding(num_ages, embedding_dim)(age_input)\n",
    "    occupation_emb = layers.Embedding(num_occupations, embedding_dim)(occupation_input)\n",
    "    item_emb = layers.Embedding(num_items, embedding_dim)(item_input)\n",
    "    genre_emb = layers.Embedding(num_genres, embedding_dim)(genre_input)\n",
    "\n",
    "    # Flatten\n",
    "    gender_flat = layers.Flatten()(gender_emb)\n",
    "    age_flat = layers.Flatten()(age_emb)\n",
    "    occupation_flat = layers.Flatten()(occupation_emb)\n",
    "    item_flat = layers.Flatten()(item_emb)\n",
    "    genre_flat = layers.Flatten()(genre_emb)\n",
    "\n",
    "    # User profile vector (kết hợp thông tin người dùng)\n",
    "    user_profile = layers.Concatenate()([gender_flat, age_flat, occupation_flat])\n",
    "    user_vector = layers.Dense(embedding_dim)(user_profile)\n",
    "\n",
    "    # 📌 FM tương tác giữa user và item\n",
    "    fm_user_item = layers.Dot(axes=1)([user_vector, item_flat])\n",
    "    fm_genre_user = layers.Dot(axes=1)([genre_flat, user_vector])\n",
    "\n",
    "    # 🧠 DNN\n",
    "    concat = layers.Concatenate()([user_profile, item_flat, genre_flat])\n",
    "    dnn = concat\n",
    "    for dim in hidden_dims:\n",
    "        dnn = layers.Dense(dim, activation='relu')(dnn)\n",
    "        dnn = layers.Dropout(dropout)(dnn)\n",
    "    dnn_out = layers.Dense(1)(dnn)\n",
    "\n",
    "    # 🎯 Output\n",
    "    output = layers.Add()([fm_user_item, fm_genre_user, dnn_out])\n",
    "    output = layers.Activation('sigmoid')(output)\n",
    "\n",
    "    model = keras.Model(\n",
    "        inputs=[gender_input, age_input, occupation_input, item_input, genre_input],\n",
    "        outputs=output\n",
    "    )\n",
    "    model.compile(optimizer='adam', loss='binary_crossentropy',\n",
    "                  metrics=['accuracy', tf.keras.metrics.AUC(name='auc')])\n",
    "    return model\n"
   ]
  },
  {
   "cell_type": "code",
   "execution_count": 57,
   "metadata": {
    "id": "EkKhcwUzB7Ws",
    "outputId": "d4e0be9f-7830-4a7d-a1d8-f7cae4d6d880"
   },
   "outputs": [
    {
     "name": "stdout",
     "output_type": "stream",
     "text": [
      "Model: \"model_4\"\n",
      "__________________________________________________________________________________________________\n",
      " Layer (type)                Output Shape                 Param #   Connected to                  \n",
      "==================================================================================================\n",
      " gender (InputLayer)         [(None, 1)]                  0         []                            \n",
      "                                                                                                  \n",
      " age (InputLayer)            [(None, 1)]                  0         []                            \n",
      "                                                                                                  \n",
      " occupation (InputLayer)     [(None, 1)]                  0         []                            \n",
      "                                                                                                  \n",
      " embedding_18 (Embedding)    (None, 1, 8)                 16        ['gender[0][0]']              \n",
      "                                                                                                  \n",
      " embedding_19 (Embedding)    (None, 1, 8)                 56        ['age[0][0]']                 \n",
      "                                                                                                  \n",
      " embedding_20 (Embedding)    (None, 1, 8)                 168       ['occupation[0][0]']          \n",
      "                                                                                                  \n",
      " item_id (InputLayer)        [(None, 1)]                  0         []                            \n",
      "                                                                                                  \n",
      " genre (InputLayer)          [(None, 1)]                  0         []                            \n",
      "                                                                                                  \n",
      " flatten_18 (Flatten)        (None, 8)                    0         ['embedding_18[0][0]']        \n",
      "                                                                                                  \n",
      " flatten_19 (Flatten)        (None, 8)                    0         ['embedding_19[0][0]']        \n",
      "                                                                                                  \n",
      " flatten_20 (Flatten)        (None, 8)                    0         ['embedding_20[0][0]']        \n",
      "                                                                                                  \n",
      " embedding_21 (Embedding)    (None, 1, 8)                 29648     ['item_id[0][0]']             \n",
      "                                                                                                  \n",
      " embedding_22 (Embedding)    (None, 1, 8)                 144       ['genre[0][0]']               \n",
      "                                                                                                  \n",
      " concatenate_6 (Concatenate  (None, 24)                   0         ['flatten_18[0][0]',          \n",
      " )                                                                   'flatten_19[0][0]',          \n",
      "                                                                     'flatten_20[0][0]']          \n",
      "                                                                                                  \n",
      " flatten_21 (Flatten)        (None, 8)                    0         ['embedding_21[0][0]']        \n",
      "                                                                                                  \n",
      " flatten_22 (Flatten)        (None, 8)                    0         ['embedding_22[0][0]']        \n",
      "                                                                                                  \n",
      " concatenate_7 (Concatenate  (None, 40)                   0         ['concatenate_6[0][0]',       \n",
      " )                                                                   'flatten_21[0][0]',          \n",
      "                                                                     'flatten_22[0][0]']          \n",
      "                                                                                                  \n",
      " dense_15 (Dense)            (None, 64)                   2624      ['concatenate_7[0][0]']       \n",
      "                                                                                                  \n",
      " dropout_8 (Dropout)         (None, 64)                   0         ['dense_15[0][0]']            \n",
      "                                                                                                  \n",
      " dense_16 (Dense)            (None, 32)                   2080      ['dropout_8[0][0]']           \n",
      "                                                                                                  \n",
      " dense_14 (Dense)            (None, 8)                    200       ['concatenate_6[0][0]']       \n",
      "                                                                                                  \n",
      " dropout_9 (Dropout)         (None, 32)                   0         ['dense_16[0][0]']            \n",
      "                                                                                                  \n",
      " dot_10 (Dot)                (None, 1)                    0         ['dense_14[0][0]',            \n",
      "                                                                     'flatten_21[0][0]']          \n",
      "                                                                                                  \n",
      " dot_11 (Dot)                (None, 1)                    0         ['flatten_22[0][0]',          \n",
      "                                                                     'dense_14[0][0]']            \n",
      "                                                                                                  \n",
      " dense_17 (Dense)            (None, 1)                    33        ['dropout_9[0][0]']           \n",
      "                                                                                                  \n",
      " add_6 (Add)                 (None, 1)                    0         ['dot_10[0][0]',              \n",
      "                                                                     'dot_11[0][0]',              \n",
      "                                                                     'dense_17[0][0]']            \n",
      "                                                                                                  \n",
      " activation_4 (Activation)   (None, 1)                    0         ['add_6[0][0]']               \n",
      "                                                                                                  \n",
      "==================================================================================================\n",
      "Total params: 34969 (136.60 KB)\n",
      "Trainable params: 34969 (136.60 KB)\n",
      "Non-trainable params: 0 (0.00 Byte)\n",
      "__________________________________________________________________________________________________\n"
     ]
    }
   ],
   "source": [
    "# Chuẩn bị số lượng danh mục (category) cho embedding\n",
    "num_genders = data[\"gender\"].nunique()\n",
    "num_ages = data[\"age\"].nunique()\n",
    "num_occupations = data[\"occupation\"].nunique()\n",
    "num_genres = data[\"genres\"].nunique()\n",
    "\n",
    "# Khởi tạo mô hình\n",
    "embedding_dim = 8\n",
    "hidden_dims = [64, 32]\n",
    "dropout = 0.5\n",
    "\n",
    "model = build_deepfm(\n",
    "    num_items, num_genres, num_genders, num_ages, num_occupations,\n",
    "    embedding_dim=8, hidden_dims=[64, 32], dropout=0.5\n",
    ")\n",
    "\n",
    "model.summary()\n",
    "# Kiểm tra mô hình\n",
    "\n",
    "# Chuyển đổi dữ liệu đầu vào\n",
    "X_train = [\n",
    "    train[\"gender\"].values,\n",
    "    train[\"age\"].values,\n",
    "    train[\"occupation\"].values,\n",
    "    train[\"item_id\"].values,\n",
    "    train[\"genres\"].values\n",
    "]\n",
    "y_train = (train[\"rating\"].values >= 4).astype(int)\n",
    "\n",
    "X_test = [\n",
    "    test[\"gender\"].values,\n",
    "    test[\"age\"].values,\n",
    "    test[\"occupation\"].values,\n",
    "    test[\"item_id\"].values,\n",
    "    test[\"genres\"].values\n",
    "]\n",
    "y_test = (test[\"rating\"].values >= 4).astype(int)\n"
   ]
  },
  {
   "cell_type": "code",
   "execution_count": 65,
   "metadata": {},
   "outputs": [
    {
     "name": "stdout",
     "output_type": "stream",
     "text": [
      "Epoch 1/10\n",
      "3126/3126 [==============================] - 9s 3ms/step - loss: 0.5671 - accuracy: 0.7040 - auc: 0.7620 - val_loss: 0.5995 - val_accuracy: 0.6842 - val_auc: 0.7327\n",
      "Epoch 2/10\n",
      "3126/3126 [==============================] - 8s 3ms/step - loss: 0.5670 - accuracy: 0.7040 - auc: 0.7621 - val_loss: 0.5998 - val_accuracy: 0.6843 - val_auc: 0.7326\n",
      "Epoch 3/10\n",
      "3126/3126 [==============================] - 8s 3ms/step - loss: 0.5669 - accuracy: 0.7041 - auc: 0.7623 - val_loss: 0.6000 - val_accuracy: 0.6836 - val_auc: 0.7321\n",
      "Epoch 4/10\n",
      "3126/3126 [==============================] - 8s 3ms/step - loss: 0.5669 - accuracy: 0.7039 - auc: 0.7622 - val_loss: 0.6003 - val_accuracy: 0.6841 - val_auc: 0.7323\n",
      "Epoch 5/10\n",
      "3126/3126 [==============================] - 8s 3ms/step - loss: 0.5668 - accuracy: 0.7042 - auc: 0.7624 - val_loss: 0.6000 - val_accuracy: 0.6836 - val_auc: 0.7319\n",
      "Epoch 6/10\n",
      "3126/3126 [==============================] - 8s 3ms/step - loss: 0.5667 - accuracy: 0.7045 - auc: 0.7624 - val_loss: 0.6003 - val_accuracy: 0.6837 - val_auc: 0.7323\n",
      "Epoch 7/10\n",
      "3126/3126 [==============================] - 8s 3ms/step - loss: 0.5667 - accuracy: 0.7042 - auc: 0.7625 - val_loss: 0.6010 - val_accuracy: 0.6834 - val_auc: 0.7313\n",
      "Epoch 8/10\n",
      "3126/3126 [==============================] - 8s 3ms/step - loss: 0.5667 - accuracy: 0.7040 - auc: 0.7624 - val_loss: 0.6004 - val_accuracy: 0.6835 - val_auc: 0.7322\n",
      "Epoch 9/10\n",
      "3126/3126 [==============================] - 8s 3ms/step - loss: 0.5667 - accuracy: 0.7043 - auc: 0.7624 - val_loss: 0.6009 - val_accuracy: 0.6847 - val_auc: 0.7329\n",
      "Epoch 10/10\n",
      "3126/3126 [==============================] - 8s 3ms/step - loss: 0.5666 - accuracy: 0.7043 - auc: 0.7624 - val_loss: 0.6005 - val_accuracy: 0.6838 - val_auc: 0.7319\n",
      "6252/6252 [==============================] - 8s 1ms/step - loss: 0.6005 - accuracy: 0.6838 - auc: 0.7319\n",
      "Test Loss: 0.6005, Accuracy: 0.6838, AUC: 0.7319\n"
     ]
    }
   ],
   "source": [
    "# Huấn luyện mô hình\n",
    "history = model.fit(X_train, y_train, batch_size=256, epochs=10,\n",
    "                    validation_data=(X_test, y_test), verbose=1)\n",
    "\n",
    "# Đánh giá\n",
    "loss, acc, auc = model.evaluate(X_test, y_test)\n",
    "print(f\"Test Loss: {loss:.4f}, Accuracy: {acc:.4f}, AUC: {auc:.4f}\")"
   ]
  },
  {
   "cell_type": "code",
   "execution_count": 66,
   "metadata": {},
   "outputs": [
    {
     "data": {
      "image/png": "[encoded data removed]",
      "text/plain": [
       "<Figure size 640x480 with 1 Axes>"
      ]
     },
     "metadata": {},
     "output_type": "display_data"
    },
    {
     "data": {
      "image/png": "[encoded data removed]",
      "text/plain": [
       "<Figure size 640x480 with 1 Axes>"
      ]
     },
     "metadata": {},
     "output_type": "display_data"
    }
   ],
   "source": [
    "import matplotlib.pyplot as plt\n",
    "\n",
    "# Loss\n",
    "plt.plot(history.history['loss'], label='Train Loss')\n",
    "plt.plot(history.history['val_loss'], label='Val Loss')\n",
    "plt.title('Loss Over Epochs')\n",
    "plt.xlabel('Epoch')\n",
    "plt.ylabel('Loss')\n",
    "plt.legend()\n",
    "plt.grid(True)\n",
    "plt.show()\n",
    "\n",
    "# AUC\n",
    "plt.plot(history.history['auc'], label='Train AUC')\n",
    "plt.plot(history.history['val_auc'], label='Val AUC')\n",
    "plt.title('AUC Over Epochs')\n",
    "plt.xlabel('Epoch')\n",
    "plt.ylabel('AUC')\n",
    "plt.legend()\n",
    "plt.grid(True)\n",
    "plt.show()\n"
   ]
  },
  {
   "cell_type": "code",
   "execution_count": 67,
   "metadata": {},
   "outputs": [],
   "source": [
    "# Lưu mô hình\n",
    "model.save(\"deepfm_model.keras\")"
   ]
  }
 ],
 "metadata": {
  "colab": {
   "provenance": []
  },
  "kernelspec": {
   "display_name": "Python (tf_gpu_env)",
   "language": "python",
   "name": "tf_gpu_env"
  },
  "language_info": {
   "codemirror_mode": {
    "name": "ipython",
    "version": 3
   },
   "file_extension": ".py",
   "mimetype": "text/x-python",
   "name": "python",
   "nbconvert_exporter": "python",
   "pygments_lexer": "ipython3",
   "version": "3.10.16"
  }
 },
 "nbformat": 4,
 "nbformat_minor": 0
}
