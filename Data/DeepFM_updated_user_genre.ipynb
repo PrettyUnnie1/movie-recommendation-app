{
 "cells": [
  {
   "cell_type": "code",
   "execution_count": 6,
   "metadata": {},
   "outputs": [
    {
     "name": "stdout",
     "output_type": "stream",
     "text": [
      "Requirement already satisfied: tensorflow in c:\\users\\admin\\.conda\\envs\\tf_gpu_env\\lib\\site-packages (2.15.0)\n",
      "Requirement already satisfied: keras in c:\\users\\admin\\.conda\\envs\\tf_gpu_env\\lib\\site-packages (2.15.0)\n",
      "Requirement already satisfied: pandas in c:\\users\\admin\\appdata\\roaming\\python\\python310\\site-packages (2.2.3)\n",
      "Requirement already satisfied: numpy in c:\\users\\admin\\appdata\\roaming\\python\\python310\\site-packages (1.26.4)\n",
      "Requirement already satisfied: scikit-learn in c:\\users\\admin\\.conda\\envs\\tf_gpu_env\\lib\\site-packages (1.6.1)\n",
      "Requirement already satisfied: matplotlib in c:\\users\\admin\\appdata\\roaming\\python\\python310\\site-packages (3.10.1)\n",
      "Requirement already satisfied: tensorflow-intel==2.15.0 in c:\\users\\admin\\.conda\\envs\\tf_gpu_env\\lib\\site-packages (from tensorflow) (2.15.0)\n",
      "Requirement already satisfied: absl-py>=1.0.0 in c:\\users\\admin\\appdata\\roaming\\python\\python310\\site-packages (from tensorflow-intel==2.15.0->tensorflow) (2.2.2)\n",
      "Requirement already satisfied: astunparse>=1.6.0 in c:\\users\\admin\\appdata\\roaming\\python\\python310\\site-packages (from tensorflow-intel==2.15.0->tensorflow) (1.6.3)\n",
      "Requirement already satisfied: flatbuffers>=23.5.26 in c:\\users\\admin\\appdata\\roaming\\python\\python310\\site-packages (from tensorflow-intel==2.15.0->tensorflow) (25.2.10)\n",
      "Requirement already satisfied: gast!=0.5.0,!=0.5.1,!=0.5.2,>=0.2.1 in c:\\users\\admin\\appdata\\roaming\\python\\python310\\site-packages (from tensorflow-intel==2.15.0->tensorflow) (0.6.0)\n",
      "Requirement already satisfied: google-pasta>=0.1.1 in c:\\users\\admin\\appdata\\roaming\\python\\python310\\site-packages (from tensorflow-intel==2.15.0->tensorflow) (0.2.0)\n",
      "Requirement already satisfied: h5py>=2.9.0 in c:\\users\\admin\\appdata\\roaming\\python\\python310\\site-packages (from tensorflow-intel==2.15.0->tensorflow) (3.13.0)\n",
      "Requirement already satisfied: libclang>=13.0.0 in c:\\users\\admin\\appdata\\roaming\\python\\python310\\site-packages (from tensorflow-intel==2.15.0->tensorflow) (18.1.1)\n",
      "Requirement already satisfied: ml-dtypes~=0.2.0 in c:\\users\\admin\\appdata\\roaming\\python\\python310\\site-packages (from tensorflow-intel==2.15.0->tensorflow) (0.2.0)\n",
      "Requirement already satisfied: opt-einsum>=2.3.2 in c:\\users\\admin\\appdata\\roaming\\python\\python310\\site-packages (from tensorflow-intel==2.15.0->tensorflow) (3.4.0)\n",
      "Requirement already satisfied: packaging in c:\\users\\admin\\appdata\\roaming\\python\\python310\\site-packages (from tensorflow-intel==2.15.0->tensorflow) (25.0)\n",
      "Requirement already satisfied: protobuf!=4.21.0,!=4.21.1,!=4.21.2,!=4.21.3,!=4.21.4,!=4.21.5,<5.0.0dev,>=3.20.3 in c:\\users\\admin\\appdata\\roaming\\python\\python310\\site-packages (from tensorflow-intel==2.15.0->tensorflow) (4.21.12)\n",
      "Requirement already satisfied: setuptools in c:\\users\\admin\\.conda\\envs\\tf_gpu_env\\lib\\site-packages (from tensorflow-intel==2.15.0->tensorflow) (80.3.0)\n",
      "Requirement already satisfied: six>=1.12.0 in c:\\users\\admin\\appdata\\roaming\\python\\python310\\site-packages (from tensorflow-intel==2.15.0->tensorflow) (1.17.0)\n",
      "Requirement already satisfied: termcolor>=1.1.0 in c:\\users\\admin\\appdata\\roaming\\python\\python310\\site-packages (from tensorflow-intel==2.15.0->tensorflow) (3.0.1)\n",
      "Requirement already satisfied: typing-extensions>=3.6.6 in c:\\users\\admin\\appdata\\roaming\\python\\python310\\site-packages (from tensorflow-intel==2.15.0->tensorflow) (4.13.2)\n",
      "Requirement already satisfied: wrapt<1.15,>=1.11.0 in c:\\users\\admin\\appdata\\roaming\\python\\python310\\site-packages (from tensorflow-intel==2.15.0->tensorflow) (1.14.1)\n",
      "Requirement already satisfied: tensorflow-io-gcs-filesystem>=0.23.1 in c:\\users\\admin\\.conda\\envs\\tf_gpu_env\\lib\\site-packages (from tensorflow-intel==2.15.0->tensorflow) (0.31.0)\n",
      "Requirement already satisfied: grpcio<2.0,>=1.24.3 in c:\\users\\admin\\appdata\\roaming\\python\\python310\\site-packages (from tensorflow-intel==2.15.0->tensorflow) (1.71.0)\n",
      "Requirement already satisfied: tensorboard<2.16,>=2.15 in c:\\users\\admin\\appdata\\roaming\\python\\python310\\site-packages (from tensorflow-intel==2.15.0->tensorflow) (2.15.2)\n",
      "Requirement already satisfied: tensorflow-estimator<2.16,>=2.15.0 in c:\\users\\admin\\.conda\\envs\\tf_gpu_env\\lib\\site-packages (from tensorflow-intel==2.15.0->tensorflow) (2.15.0)\n",
      "Requirement already satisfied: python-dateutil>=2.8.2 in c:\\users\\admin\\appdata\\roaming\\python\\python310\\site-packages (from pandas) (2.9.0.post0)\n",
      "Requirement already satisfied: pytz>=2020.1 in c:\\users\\admin\\appdata\\roaming\\python\\python310\\site-packages (from pandas) (2025.2)\n",
      "Requirement already satisfied: tzdata>=2022.7 in c:\\users\\admin\\appdata\\roaming\\python\\python310\\site-packages (from pandas) (2025.2)\n",
      "Requirement already satisfied: scipy>=1.6.0 in c:\\users\\admin\\.conda\\envs\\tf_gpu_env\\lib\\site-packages (from scikit-learn) (1.15.2)\n",
      "Requirement already satisfied: joblib>=1.2.0 in c:\\users\\admin\\.conda\\envs\\tf_gpu_env\\lib\\site-packages (from scikit-learn) (1.4.2)\n",
      "Requirement already satisfied: threadpoolctl>=3.1.0 in c:\\users\\admin\\.conda\\envs\\tf_gpu_env\\lib\\site-packages (from scikit-learn) (3.6.0)\n",
      "Requirement already satisfied: contourpy>=1.0.1 in c:\\users\\admin\\appdata\\roaming\\python\\python310\\site-packages (from matplotlib) (1.3.2)\n",
      "Requirement already satisfied: cycler>=0.10 in c:\\users\\admin\\appdata\\roaming\\python\\python310\\site-packages (from matplotlib) (0.12.1)\n",
      "Requirement already satisfied: fonttools>=4.22.0 in c:\\users\\admin\\appdata\\roaming\\python\\python310\\site-packages (from matplotlib) (4.57.0)\n",
      "Requirement already satisfied: kiwisolver>=1.3.1 in c:\\users\\admin\\appdata\\roaming\\python\\python310\\site-packages (from matplotlib) (1.4.8)\n",
      "Requirement already satisfied: pillow>=8 in c:\\users\\admin\\appdata\\roaming\\python\\python310\\site-packages (from matplotlib) (11.2.1)\n",
      "Requirement already satisfied: pyparsing>=2.3.1 in c:\\users\\admin\\appdata\\roaming\\python\\python310\\site-packages (from matplotlib) (3.2.3)\n",
      "Requirement already satisfied: wheel<1.0,>=0.23.0 in c:\\users\\admin\\appdata\\roaming\\python\\python310\\site-packages (from astunparse>=1.6.0->tensorflow-intel==2.15.0->tensorflow) (0.45.1)\n",
      "Requirement already satisfied: google-auth<3,>=1.6.3 in c:\\users\\admin\\appdata\\roaming\\python\\python310\\site-packages (from tensorboard<2.16,>=2.15->tensorflow-intel==2.15.0->tensorflow) (2.39.0)\n",
      "Requirement already satisfied: google-auth-oauthlib<2,>=0.5 in c:\\users\\admin\\appdata\\roaming\\python\\python310\\site-packages (from tensorboard<2.16,>=2.15->tensorflow-intel==2.15.0->tensorflow) (1.2.2)\n",
      "Requirement already satisfied: markdown>=2.6.8 in c:\\users\\admin\\appdata\\roaming\\python\\python310\\site-packages (from tensorboard<2.16,>=2.15->tensorflow-intel==2.15.0->tensorflow) (3.8)\n",
      "Requirement already satisfied: requests<3,>=2.21.0 in c:\\users\\admin\\appdata\\roaming\\python\\python310\\site-packages (from tensorboard<2.16,>=2.15->tensorflow-intel==2.15.0->tensorflow) (2.32.3)\n",
      "Requirement already satisfied: tensorboard-data-server<0.8.0,>=0.7.0 in c:\\users\\admin\\appdata\\roaming\\python\\python310\\site-packages (from tensorboard<2.16,>=2.15->tensorflow-intel==2.15.0->tensorflow) (0.7.2)\n",
      "Requirement already satisfied: werkzeug>=1.0.1 in c:\\users\\admin\\appdata\\roaming\\python\\python310\\site-packages (from tensorboard<2.16,>=2.15->tensorflow-intel==2.15.0->tensorflow) (3.1.3)\n",
      "Requirement already satisfied: cachetools<6.0,>=2.0.0 in c:\\users\\admin\\appdata\\roaming\\python\\python310\\site-packages (from google-auth<3,>=1.6.3->tensorboard<2.16,>=2.15->tensorflow-intel==2.15.0->tensorflow) (5.5.2)\n",
      "Requirement already satisfied: pyasn1-modules>=0.2.1 in c:\\users\\admin\\appdata\\roaming\\python\\python310\\site-packages (from google-auth<3,>=1.6.3->tensorboard<2.16,>=2.15->tensorflow-intel==2.15.0->tensorflow) (0.4.2)\n",
      "Requirement already satisfied: rsa<5,>=3.1.4 in c:\\users\\admin\\appdata\\roaming\\python\\python310\\site-packages (from google-auth<3,>=1.6.3->tensorboard<2.16,>=2.15->tensorflow-intel==2.15.0->tensorflow) (4.9.1)\n",
      "Requirement already satisfied: requests-oauthlib>=0.7.0 in c:\\users\\admin\\appdata\\roaming\\python\\python310\\site-packages (from google-auth-oauthlib<2,>=0.5->tensorboard<2.16,>=2.15->tensorflow-intel==2.15.0->tensorflow) (2.0.0)\n",
      "Requirement already satisfied: charset-normalizer<4,>=2 in c:\\users\\admin\\appdata\\roaming\\python\\python310\\site-packages (from requests<3,>=2.21.0->tensorboard<2.16,>=2.15->tensorflow-intel==2.15.0->tensorflow) (3.4.1)\n",
      "Requirement already satisfied: idna<4,>=2.5 in c:\\users\\admin\\appdata\\roaming\\python\\python310\\site-packages (from requests<3,>=2.21.0->tensorboard<2.16,>=2.15->tensorflow-intel==2.15.0->tensorflow) (3.10)\n",
      "Requirement already satisfied: urllib3<3,>=1.21.1 in c:\\users\\admin\\appdata\\roaming\\python\\python310\\site-packages (from requests<3,>=2.21.0->tensorboard<2.16,>=2.15->tensorflow-intel==2.15.0->tensorflow) (2.4.0)\n",
      "Requirement already satisfied: certifi>=2017.4.17 in c:\\users\\admin\\appdata\\roaming\\python\\python310\\site-packages (from requests<3,>=2.21.0->tensorboard<2.16,>=2.15->tensorflow-intel==2.15.0->tensorflow) (2025.1.31)\n",
      "Requirement already satisfied: MarkupSafe>=2.1.1 in c:\\users\\admin\\appdata\\roaming\\python\\python310\\site-packages (from werkzeug>=1.0.1->tensorboard<2.16,>=2.15->tensorflow-intel==2.15.0->tensorflow) (3.0.2)\n",
      "Requirement already satisfied: pyasn1<0.7.0,>=0.6.1 in c:\\users\\admin\\appdata\\roaming\\python\\python310\\site-packages (from pyasn1-modules>=0.2.1->google-auth<3,>=1.6.3->tensorboard<2.16,>=2.15->tensorflow-intel==2.15.0->tensorflow) (0.6.1)\n",
      "Requirement already satisfied: oauthlib>=3.0.0 in c:\\users\\admin\\appdata\\roaming\\python\\python310\\site-packages (from requests-oauthlib>=0.7.0->google-auth-oauthlib<2,>=0.5->tensorboard<2.16,>=2.15->tensorflow-intel==2.15.0->tensorflow) (3.2.2)\n",
      "Note: you may need to restart the kernel to use updated packages.\n"
     ]
    }
   ],
   "source": [
    "%pip install tensorflow keras pandas numpy scikit-learn matplotlib"
   ]
  },
  {
   "cell_type": "code",
   "execution_count": 7,
   "metadata": {},
   "outputs": [],
   "source": [
    "import os\n",
    "os.environ['TF_CPP_MIN_LOG_LEVEL'] = '2'"
   ]
  },
  {
   "cell_type": "code",
   "execution_count": 8,
   "metadata": {
    "id": "DV3FU3zWB7Wn"
   },
   "outputs": [],
   "source": [
    "import tensorflow as tf\n",
    "from tensorflow import keras\n",
    "from tensorflow.keras import layers\n",
    "import pandas as pd\n",
    "import numpy as np\n",
    "from sklearn.model_selection import train_test_split\n",
    "from sklearn.preprocessing import LabelEncoder\n"
   ]
  },
  {
   "cell_type": "code",
   "execution_count": 10,
   "metadata": {
    "id": "dHeIM4m6B7Wp"
   },
   "outputs": [],
   "source": [
    "# Đọc dữ liệu MovieLens 1M\n",
    "file_path = r\"C:\\Thesis\\Sample Project\\Data\\Dataset\\ratings.dat\"\n",
    "column_names = [\"user_id\", \"item_id\", \"rating\", \"timestamp\"]\n",
    "data = pd.read_csv(file_path, sep='::', names=column_names, engine='python')\n",
    "\n",
    "data = data.drop(columns=[\"timestamp\"])  # Bỏ cột timestamp"
   ]
  },
  {
   "cell_type": "code",
   "execution_count": 16,
   "id": "d971be80",
   "metadata": {},
   "outputs": [
    {
     "name": "stdout",
     "output_type": "stream",
     "text": [
      "Gender Mapping: {'F': 0, 'M': 1}\n",
      "Age Mapping: {1: 0, 18: 1, 25: 2, 35: 3, 45: 4, 50: 5, 56: 6}\n",
      "Occupation Mapping: {0: 0, 1: 1, 2: 2, 3: 3, 4: 4, 5: 5, 6: 6, 7: 7, 8: 8, 9: 9, 10: 10, 11: 11, 12: 12, 13: 13, 14: 14, 15: 15, 16: 16, 17: 17, 18: 18, 19: 19, 20: 20}\n",
      "Genre Mapping: {'Action': 0, 'Adventure': 1, 'Animation': 2, \"Children's\": 3, 'Comedy': 4, 'Crime': 5, 'Documentary': 6, 'Drama': 7, 'Fantasy': 8, 'Film-Noir': 9, 'Horror': 10, 'Musical': 11, 'Mystery': 12, 'Romance': 13, 'Sci-Fi': 14, 'Thriller': 15, 'War': 16, 'Western': 17}\n"
     ]
    }
   ],
   "source": [
    "\n",
    "# Load thêm dữ liệu người dùng và phim\n",
    "users = pd.read_csv(r\"C:\\Thesis\\Sample Project\\Data\\Dataset\\users.dat\", sep='::', engine='python',\n",
    "                    names=[\"user_id\", \"gender\", \"age\", \"occupation\", \"zip\"], encoding='latin-1')\n",
    "movies = pd.read_csv(r\"C:\\Thesis\\Sample Project\\Data\\Dataset\\movies.dat\", sep='::', engine='python',\n",
    "                     names=[\"item_id\", \"title\", \"genres\"], encoding='latin-1') \n",
    "\n",
    "# Encode các cột phân loại\n",
    "from sklearn.preprocessing import LabelEncoder\n",
    "gender_enc = LabelEncoder()\n",
    "occupation_enc = LabelEncoder()\n",
    "age_enc = LabelEncoder()\n",
    "genre_enc = LabelEncoder()\n",
    "\n",
    "users[\"gender\"] = gender_enc.fit_transform(users[\"gender\"])\n",
    "users[\"occupation\"] = occupation_enc.fit_transform(users[\"occupation\"])\n",
    "users[\"age\"] = age_enc.fit_transform(users[\"age\"])\n",
    "\n",
    "# Với genres có nhiều thể loại, tạm thời chỉ lấy thể loại đầu tiên\n",
    "movies[\"genres\"] = movies[\"genres\"].apply(lambda x: x.split('|')[0])\n",
    "movies[\"genres\"] = genre_enc.fit_transform(movies[\"genres\"])\n",
    "\n",
    "# In dữ liệu để kiểm tra\n",
    "print(\"Gender Mapping:\", dict(zip(gender_enc.classes_, gender_enc.transform(gender_enc.classes_))))\n",
    "print(\"Age Mapping:\", dict(zip(age_enc.classes_, age_enc.transform(age_enc.classes_))))\n",
    "print(\"Occupation Mapping:\", dict(zip(occupation_enc.classes_, occupation_enc.transform(occupation_enc.classes_))))\n",
    "print(\"Genre Mapping:\", dict(zip(genre_enc.classes_, genre_enc.transform(genre_enc.classes_))))\n",
    "\n",
    "# Gộp dữ liệu lại\n",
    "data = data.merge(users, on=\"user_id\")\n",
    "data = data.merge(movies, on=\"item_id\")\n"
   ]
  },
  {
   "cell_type": "code",
   "execution_count": 12,
   "metadata": {
    "id": "JvV02DqIB7Wq"
   },
   "outputs": [],
   "source": [
    "\n",
    "# Mã hóa ID người dùng và phim\n",
    "user_encoder = LabelEncoder()\n",
    "data[\"user_id\"] = user_encoder.fit_transform(data[\"user_id\"])\n",
    "\n",
    "item_encoder = LabelEncoder()\n",
    "data[\"item_id\"] = item_encoder.fit_transform(data[\"item_id\"])\n",
    "\n",
    "num_users = data[\"user_id\"].nunique()\n",
    "num_items = data[\"item_id\"].nunique()\n",
    "# Chia tập huấn luyện và kiểm tra\n",
    "train, test = train_test_split(data, test_size=0.2, random_state=42)"
   ]
  },
  {
   "cell_type": "code",
   "execution_count": 13,
   "metadata": {
    "id": "Sq2xE5bgB7Wr"
   },
   "outputs": [],
   "source": [
    "def build_deepfm(num_users, num_items, num_genders, num_ages, num_occupations, num_genres,\n",
    "                    embedding_dim=8, hidden_dims=[64, 32], dropout=0.5):\n",
    "    # Input layers\n",
    "    user_input = layers.Input(shape=(1,), name='user_input')\n",
    "    item_input = layers.Input(shape=(1,), name='item_input')\n",
    "    gender_input = layers.Input(shape=(1,), name='gender')\n",
    "    age_input = layers.Input(shape=(1,), name='age')\n",
    "    occupation_input = layers.Input(shape=(1,), name='occupation')\n",
    "    genre_input = layers.Input(shape=(1,), name='genre')\n",
    "\n",
    "    # Embedding layers\n",
    "    user_emb = layers.Embedding(num_users, embedding_dim)(user_input)\n",
    "    item_emb = layers.Embedding(num_items, embedding_dim)(item_input)\n",
    "    gender_emb = layers.Embedding(num_genders, embedding_dim)(gender_input)\n",
    "    age_emb = layers.Embedding(num_ages, embedding_dim)(age_input)\n",
    "    occupation_emb = layers.Embedding(num_occupations, embedding_dim)(occupation_input)\n",
    "    genre_emb = layers.Embedding(num_genres, embedding_dim)(genre_input)\n",
    "\n",
    "    # Flatten all\n",
    "    user_flat = layers.Flatten()(user_emb)\n",
    "    item_flat = layers.Flatten()(item_emb)\n",
    "    gender_flat = layers.Flatten()(gender_emb)\n",
    "    age_flat = layers.Flatten()(age_emb)\n",
    "    occupation_flat = layers.Flatten()(occupation_emb)\n",
    "    genre_flat = layers.Flatten()(genre_emb)\n",
    "\n",
    "    # Factorization Machine (FM): tất cả pairwise dot-product\n",
    "    interaction = layers.Dot(axes=1)([user_flat, item_flat])  # Bạn có thể mở rộng nếu muốn thêm cặp khác\n",
    "\n",
    "    # Deep component\n",
    "    concat = layers.Concatenate()([\n",
    "        user_flat, item_flat, gender_flat, age_flat, occupation_flat, genre_flat\n",
    "    ])\n",
    "    dnn = concat\n",
    "    for dim in hidden_dims:\n",
    "        dnn = layers.Dense(dim, activation='relu')(dnn)\n",
    "        dnn = layers.Dropout(dropout)(dnn)\n",
    "    dnn = layers.Dense(1)(dnn)\n",
    "\n",
    "    # Tổng hợp FM + DNN\n",
    "    output = layers.Add()([interaction, dnn])\n",
    "    output = layers.Activation('sigmoid')(output)\n",
    "\n",
    "    # Compile model\n",
    "    model = keras.Model(\n",
    "        inputs=[user_input, item_input, gender_input, age_input, occupation_input, genre_input],\n",
    "        outputs=output\n",
    "    )\n",
    "    model.compile(optimizer='adam', loss='binary_crossentropy',\n",
    "                  metrics=['accuracy', tf.keras.metrics.AUC()])\n",
    "    return model\n"
   ]
  },
  {
   "cell_type": "code",
   "execution_count": 14,
   "metadata": {
    "id": "EkKhcwUzB7Ws",
    "outputId": "d4e0be9f-7830-4a7d-a1d8-f7cae4d6d880"
   },
   "outputs": [
    {
     "name": "stdout",
     "output_type": "stream",
     "text": [
      "WARNING:tensorflow:From c:\\Users\\ADMIN\\.conda\\envs\\tf_gpu_env\\lib\\site-packages\\keras\\src\\backend.py:1398: The name tf.executing_eagerly_outside_functions is deprecated. Please use tf.compat.v1.executing_eagerly_outside_functions instead.\n",
      "\n",
      "WARNING:tensorflow:From c:\\Users\\ADMIN\\.conda\\envs\\tf_gpu_env\\lib\\site-packages\\keras\\src\\optimizers\\__init__.py:309: The name tf.train.Optimizer is deprecated. Please use tf.compat.v1.train.Optimizer instead.\n",
      "\n",
      "Epoch 1/10\n",
      "WARNING:tensorflow:From c:\\Users\\ADMIN\\.conda\\envs\\tf_gpu_env\\lib\\site-packages\\keras\\src\\utils\\tf_utils.py:492: The name tf.ragged.RaggedTensorValue is deprecated. Please use tf.compat.v1.ragged.RaggedTensorValue instead.\n",
      "\n",
      "WARNING:tensorflow:From c:\\Users\\ADMIN\\.conda\\envs\\tf_gpu_env\\lib\\site-packages\\keras\\src\\engine\\base_layer_utils.py:384: The name tf.executing_eagerly_outside_functions is deprecated. Please use tf.compat.v1.executing_eagerly_outside_functions instead.\n",
      "\n",
      "3126/3126 [==============================] - 13s 4ms/step - loss: 0.5683 - accuracy: 0.7092 - auc: 0.7659 - val_loss: 0.5420 - val_accuracy: 0.7243 - val_auc: 0.7884\n",
      "Epoch 2/10\n",
      "3126/3126 [==============================] - 11s 3ms/step - loss: 0.5419 - accuracy: 0.7280 - auc: 0.7919 - val_loss: 0.5377 - val_accuracy: 0.7265 - val_auc: 0.7925\n",
      "Epoch 3/10\n",
      "3126/3126 [==============================] - 10s 3ms/step - loss: 0.5358 - accuracy: 0.7313 - auc: 0.7974 - val_loss: 0.5355 - val_accuracy: 0.7286 - val_auc: 0.7951\n",
      "Epoch 4/10\n",
      "3126/3126 [==============================] - 10s 3ms/step - loss: 0.5312 - accuracy: 0.7353 - auc: 0.8019 - val_loss: 0.5335 - val_accuracy: 0.7306 - val_auc: 0.7975\n",
      "Epoch 5/10\n",
      "3126/3126 [==============================] - 10s 3ms/step - loss: 0.5256 - accuracy: 0.7396 - auc: 0.8071 - val_loss: 0.5296 - val_accuracy: 0.7329 - val_auc: 0.8015\n",
      "Epoch 6/10\n",
      "3126/3126 [==============================] - 9s 3ms/step - loss: 0.5193 - accuracy: 0.7440 - auc: 0.8126 - val_loss: 0.5268 - val_accuracy: 0.7354 - val_auc: 0.8040\n",
      "Epoch 7/10\n",
      "3126/3126 [==============================] - 9s 3ms/step - loss: 0.5146 - accuracy: 0.7476 - auc: 0.8168 - val_loss: 0.5254 - val_accuracy: 0.7361 - val_auc: 0.8054\n",
      "Epoch 8/10\n",
      "3126/3126 [==============================] - 9s 3ms/step - loss: 0.5107 - accuracy: 0.7503 - auc: 0.8200 - val_loss: 0.5255 - val_accuracy: 0.7369 - val_auc: 0.8065\n",
      "Epoch 9/10\n",
      "3126/3126 [==============================] - 9s 3ms/step - loss: 0.5073 - accuracy: 0.7522 - auc: 0.8230 - val_loss: 0.5244 - val_accuracy: 0.7376 - val_auc: 0.8073\n",
      "Epoch 10/10\n",
      "3126/3126 [==============================] - 9s 3ms/step - loss: 0.5041 - accuracy: 0.7543 - auc: 0.8253 - val_loss: 0.5239 - val_accuracy: 0.7386 - val_auc: 0.8079\n",
      "6252/6252 [==============================] - 9s 1ms/step - loss: 0.5239 - accuracy: 0.7386 - auc: 0.8079\n",
      "Test Loss: 0.5239, Accuracy: 0.7386, AUC: 0.8079\n"
     ]
    }
   ],
   "source": [
    "# Chuẩn bị số lượng danh mục (category) cho embedding\n",
    "num_genders = data[\"gender\"].nunique()\n",
    "num_ages = data[\"age\"].nunique()\n",
    "num_occupations = data[\"occupation\"].nunique()\n",
    "num_genres = data[\"genres\"].nunique()\n",
    "\n",
    "# Khởi tạo mô hình\n",
    "embedding_dim = 8\n",
    "hidden_dims = [64, 32]\n",
    "dropout = 0.5\n",
    "\n",
    "model = build_deepfm(\n",
    "    num_users, num_items, num_genders, num_ages, num_occupations, num_genres,\n",
    "    embedding_dim, hidden_dims, dropout\n",
    ")\n",
    "\n",
    "# Chuyển đổi dữ liệu đầu vào\n",
    "X_train = [\n",
    "    train[\"user_id\"].values,\n",
    "    train[\"item_id\"].values,\n",
    "    train[\"gender\"].values,\n",
    "    train[\"age\"].values,\n",
    "    train[\"occupation\"].values,\n",
    "    train[\"genres\"].values\n",
    "]\n",
    "y_train = (train[\"rating\"].values >= 4).astype(int)\n",
    "\n",
    "X_test = [\n",
    "    test[\"user_id\"].values,\n",
    "    test[\"item_id\"].values,\n",
    "    test[\"gender\"].values,\n",
    "    test[\"age\"].values,\n",
    "    test[\"occupation\"].values,\n",
    "    test[\"genres\"].values\n",
    "]\n",
    "y_test = (test[\"rating\"].values >= 4).astype(int)\n",
    "\n",
    "# Huấn luyện mô hình\n",
    "history = model.fit(X_train, y_train, batch_size=256, epochs=10,\n",
    "                    validation_data=(X_test, y_test), verbose=1)\n",
    "\n",
    "# Đánh giá\n",
    "loss, acc, auc = model.evaluate(X_test, y_test)\n",
    "print(f\"Test Loss: {loss:.4f}, Accuracy: {acc:.4f}, AUC: {auc:.4f}\")\n"
   ]
  },
  {
   "cell_type": "code",
   "execution_count": 15,
   "metadata": {},
   "outputs": [],
   "source": [
    "# Lưu mô hình\n",
    "model.save(\"deepfm_model.keras\")"
   ]
  }
 ],
 "metadata": {
  "colab": {
   "provenance": []
  },
  "kernelspec": {
   "display_name": "Python (tf_gpu_env)",
   "language": "python",
   "name": "tf_gpu_env"
  },
  "language_info": {
   "codemirror_mode": {
    "name": "ipython",
    "version": 3
   },
   "file_extension": ".py",
   "mimetype": "text/x-python",
   "name": "python",
   "nbconvert_exporter": "python",
   "pygments_lexer": "ipython3",
   "version": "3.10.16"
  }
 },
 "nbformat": 4,
 "nbformat_minor": 0
}
